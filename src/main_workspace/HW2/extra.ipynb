{
 "cells": [
  {
   "cell_type": "code",
   "execution_count": null,
   "metadata": {
    "vscode": {
     "languageId": "plaintext"
    }
   },
   "outputs": [],
   "source": [
    "learning_rates = [0.4,0.5,1.0]\n",
    "# Initialize lists to store the scores\n",
    "accuracy_scores = []\n",
    "# Perform cross-validation for each learning_rates value\n",
    "for lRate in learning_rates:\n",
    "    clf = AdaBoostClassifier(algorithm='SAMME',learning_rate=lRate, random_state=42) #the base estimator is DecisionTreeClassifier initialized with max_depth=1.\n",
    "    results = cross_validate(clf, X_train, y_train ,cv=5)\n",
    "    accuracy = results[\"test_score\"]\n",
    "    accuracy_scores.append(np.mean(accuracy))\n",
    "print(accuracy_scores)\n",
    "\n",
    "# show best parameter and score\n",
    "best_index = np.argmax(accuracy_scores)\n",
    "best_param = learning_rates[best_index]\n",
    "best_score = accuracy_scores[best_index]\n",
    "print(\"learning_rate\" , best_param)\n",
    "print(best_score)"
   ]
  }
 ],
 "metadata": {
  "language_info": {
   "name": "python"
  }
 },
 "nbformat": 4,
 "nbformat_minor": 2
}
