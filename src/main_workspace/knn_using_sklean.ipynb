{
 "cells": [
  {
   "cell_type": "code",
   "execution_count": 7,
   "metadata": {},
   "outputs": [],
   "source": [
    "from sklearn.neighbors import KNeighborsClassifier\n",
    "from sklearn.metrics import accuracy_score, recall_score, f1_score, precision_score\n",
    "\n",
    "import numpy as np\n",
    "import pandas as pd\n",
    "import matplotlib as plot\n",
    "\n",
    "raw_training = pd.read_csv(\"data/hw1_q3_train_data.csv\")\n",
    "raw_testing = pd.read_csv(\"data/hw1_q3_test_data.csv\")\n",
    "\n",
    "df_train_x = raw_training.iloc[:, :-1]\n",
    "df_train_y = raw_training.iloc[:, -1]\n",
    "df_test_x = raw_testing.iloc[:, :-1]\n",
    "df_test_y = raw_testing.iloc[:, -1]\n",
    "\n",
    "\n"
   ]
  },
  {
   "cell_type": "code",
   "execution_count": 8,
   "metadata": {},
   "outputs": [],
   "source": [
    "def normalize_array(array,normalization_maxs,normalization_mins): \n",
    "    normalized_array = (array - normalization_mins) / (normalization_maxs - normalization_mins)\n",
    "    return normalized_array\n",
    "\n",
    "\n",
    "normalization_maxs = df_train_x.max()\n",
    "normalization_mins = df_train_x.min()\n",
    "\n",
    "df_train_x_norm = normalize_array(df_train_x,normalization_maxs,normalization_mins)\n",
    "df_test_x_norm = normalize_array(df_test_x,normalization_maxs,normalization_mins)"
   ]
  },
  {
   "cell_type": "code",
   "execution_count": 9,
   "metadata": {},
   "outputs": [
    {
     "name": "stdout",
     "output_type": "stream",
     "text": [
      "Accuracy: 0.5864\n",
      "recall: 0.6298\n",
      "precision: 0.6298\n",
      "f1: 0.6298\n",
      "uneven\n",
      "Accuracy: 0.6049\n",
      "recall: 0.8508\n",
      "precision: 0.6039\n",
      "f1: 0.7064\n"
     ]
    }
   ],
   "source": [
    "\n",
    "\n",
    "# Assuming X_train, y_train, X_test, and y_test are already defined\n",
    "y_test = df_test_y\n",
    "X_test = df_test_x_norm\n",
    "X_train = df_train_x_norm\n",
    "y_train = df_train_y\n",
    "N = X_train.shape[0]\n",
    "\n",
    "# Calculate k as the square root of N, rounded to the nearest odd number\n",
    "k = int(np.sqrt(N))\n",
    "if k % 2 == 0:\n",
    "    k += 1\n",
    "knn = KNeighborsClassifier(n_neighbors=k)\n",
    "knn.fit(X_train, y_train)\n",
    "y_pred = knn.predict(X_test)\n",
    "accuracy = accuracy_score(y_test, y_pred)\n",
    "recall = recall_score(y_test, y_pred)\n",
    "precision = precision_score(y_test, y_pred)\n",
    "f1 = f1_score(y_test, y_pred)\n",
    "\n",
    "print(f\"Accuracy: {accuracy:.4f}\")\n",
    "print(f\"recall: {recall:.4f}\")\n",
    "print(f\"precision: {precision:.4f}\")\n",
    "print(f\"f1: {f1:.4f}\")\n",
    "\n",
    "# Get probability predictions\n",
    "y_pred_proba = knn.predict_proba(X_test)[:, 1]\n",
    "\n",
    "# Apply threshold of 0.4\n",
    "y_pred = (y_pred_proba >= 0.4).astype(int)\n",
    "\n",
    "accuracy = accuracy_score(y_test, y_pred)\n",
    "recall = recall_score(y_test, y_pred)\n",
    "precision = precision_score(y_test, y_pred)\n",
    "f1 = f1_score(y_test, y_pred)\n",
    "\n",
    "print(\"uneven\")\n",
    "print(f\"Accuracy: {accuracy:.4f}\")\n",
    "print(f\"recall: {recall:.4f}\")\n",
    "print(f\"precision: {precision:.4f}\")\n",
    "print(f\"f1: {f1:.4f}\")"
   ]
  }
 ],
 "metadata": {
  "kernelspec": {
   "display_name": "Python 3",
   "language": "python",
   "name": "python3"
  },
  "language_info": {
   "codemirror_mode": {
    "name": "ipython",
    "version": 3
   },
   "file_extension": ".py",
   "mimetype": "text/x-python",
   "name": "python",
   "nbconvert_exporter": "python",
   "pygments_lexer": "ipython3",
   "version": "3.12.5"
  }
 },
 "nbformat": 4,
 "nbformat_minor": 2
}
