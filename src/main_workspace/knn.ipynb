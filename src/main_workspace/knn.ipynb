{
 "cells": [
  {
   "cell_type": "code",
   "execution_count": 25,
   "metadata": {},
   "outputs": [
    {
     "data": {
      "text/html": [
       "<div>\n",
       "<style scoped>\n",
       "    .dataframe tbody tr th:only-of-type {\n",
       "        vertical-align: middle;\n",
       "    }\n",
       "\n",
       "    .dataframe tbody tr th {\n",
       "        vertical-align: top;\n",
       "    }\n",
       "\n",
       "    .dataframe thead th {\n",
       "        text-align: right;\n",
       "    }\n",
       "</style>\n",
       "<table border=\"1\" class=\"dataframe\">\n",
       "  <thead>\n",
       "    <tr style=\"text-align: right;\">\n",
       "      <th></th>\n",
       "      <th>cap-diameter</th>\n",
       "      <th>cap-shape</th>\n",
       "      <th>gill-attachment</th>\n",
       "      <th>gill-color</th>\n",
       "      <th>stem-height</th>\n",
       "      <th>stem-width</th>\n",
       "      <th>stem-color</th>\n",
       "      <th>season</th>\n",
       "      <th>class</th>\n",
       "    </tr>\n",
       "  </thead>\n",
       "  <tbody>\n",
       "    <tr>\n",
       "      <th>0</th>\n",
       "      <td>456</td>\n",
       "      <td>6</td>\n",
       "      <td>0</td>\n",
       "      <td>10</td>\n",
       "      <td>0.708686</td>\n",
       "      <td>1301</td>\n",
       "      <td>12</td>\n",
       "      <td>0.943195</td>\n",
       "      <td>1</td>\n",
       "    </tr>\n",
       "    <tr>\n",
       "      <th>1</th>\n",
       "      <td>437</td>\n",
       "      <td>5</td>\n",
       "      <td>4</td>\n",
       "      <td>5</td>\n",
       "      <td>1.349303</td>\n",
       "      <td>336</td>\n",
       "      <td>6</td>\n",
       "      <td>0.888450</td>\n",
       "      <td>1</td>\n",
       "    </tr>\n",
       "    <tr>\n",
       "      <th>2</th>\n",
       "      <td>871</td>\n",
       "      <td>6</td>\n",
       "      <td>2</td>\n",
       "      <td>7</td>\n",
       "      <td>0.668044</td>\n",
       "      <td>960</td>\n",
       "      <td>11</td>\n",
       "      <td>0.027372</td>\n",
       "      <td>0</td>\n",
       "    </tr>\n",
       "    <tr>\n",
       "      <th>3</th>\n",
       "      <td>428</td>\n",
       "      <td>6</td>\n",
       "      <td>4</td>\n",
       "      <td>5</td>\n",
       "      <td>0.031406</td>\n",
       "      <td>1115</td>\n",
       "      <td>6</td>\n",
       "      <td>0.888450</td>\n",
       "      <td>0</td>\n",
       "    </tr>\n",
       "    <tr>\n",
       "      <th>4</th>\n",
       "      <td>571</td>\n",
       "      <td>2</td>\n",
       "      <td>5</td>\n",
       "      <td>10</td>\n",
       "      <td>0.187438</td>\n",
       "      <td>910</td>\n",
       "      <td>6</td>\n",
       "      <td>0.888450</td>\n",
       "      <td>0</td>\n",
       "    </tr>\n",
       "  </tbody>\n",
       "</table>\n",
       "</div>"
      ],
      "text/plain": [
       "   cap-diameter  cap-shape  gill-attachment  gill-color  stem-height  \\\n",
       "0           456          6                0          10     0.708686   \n",
       "1           437          5                4           5     1.349303   \n",
       "2           871          6                2           7     0.668044   \n",
       "3           428          6                4           5     0.031406   \n",
       "4           571          2                5          10     0.187438   \n",
       "\n",
       "   stem-width  stem-color    season  class  \n",
       "0        1301          12  0.943195      1  \n",
       "1         336           6  0.888450      1  \n",
       "2         960          11  0.027372      0  \n",
       "3        1115           6  0.888450      0  \n",
       "4         910           6  0.888450      0  "
      ]
     },
     "execution_count": 25,
     "metadata": {},
     "output_type": "execute_result"
    }
   ],
   "source": [
    "import numpy as np\n",
    "import pandas as pd\n",
    "import matplotlib as plot\n",
    "\n",
    "raw_training = pd.read_csv(\"data/hw1_q3_train_data.csv\")\n",
    "raw_testing = pd.read_csv(\"data/hw1_q3_test_data.csv\")\n",
    "\n",
    "df_train_x = raw_training.iloc[:, :-1]\n",
    "df_train_y = raw_training.iloc[:, -1]\n",
    "df_test_x = raw_testing.iloc[:, :-1]\n",
    "df_test_y = raw_testing.iloc[:, -1]\n",
    "\n",
    "\n",
    "#raw_training.head(5)\n",
    "raw_testing.head(5)\n"
   ]
  },
  {
   "cell_type": "code",
   "execution_count": 26,
   "metadata": {},
   "outputs": [
    {
     "name": "stdout",
     "output_type": "stream",
     "text": [
      "     cap-diameter  cap-shape  gill-attachment  gill-color  stem-height  \\\n",
      "0        0.326367   1.000000         1.000000    0.909091     0.022409   \n",
      "1        0.446409   1.000000         0.000000    0.909091     0.120919   \n",
      "2        0.172562   1.000000         0.833333    0.454545     0.125393   \n",
      "3        0.109325   1.000000         0.833333    0.454545     0.127517   \n",
      "4        0.492497   0.833333         0.166667    0.636364     0.209040   \n",
      "..            ...        ...              ...         ...          ...   \n",
      "427      0.660236   0.833333         0.166667    0.454545     0.029841   \n",
      "428      0.415863   0.500000         0.500000    0.181818     0.305881   \n",
      "429      0.377278   0.333333         1.000000    1.000000     0.110302   \n",
      "430      0.344587   1.000000         1.000000    0.909091     0.136845   \n",
      "431      0.529475   1.000000         0.666667    0.545455     0.033861   \n",
      "\n",
      "     stem-width  stem-color    season  \n",
      "0      0.403020    0.916667  0.492415  \n",
      "1      0.397793    0.916667  0.492415  \n",
      "2      0.169570    0.500000  0.492415  \n",
      "3      0.183508    0.916667  0.522756  \n",
      "4      0.388792    0.666667  0.492415  \n",
      "..          ...         ...       ...  \n",
      "427    0.425958    0.500000  0.522756  \n",
      "428    0.668990    0.500000  0.492415  \n",
      "429    0.294715    0.916667  0.522756  \n",
      "430    0.302846    0.500000  0.522756  \n",
      "431    0.595819    0.833333  0.522756  \n",
      "\n",
      "[432 rows x 8 columns]\n"
     ]
    }
   ],
   "source": [
    "def normalize_dataframe(df,normalization_params):\n",
    "    normalized_df = df.apply(lambda column: column / normalization_params[column.name])\n",
    "    return normalized_df\n",
    "\n",
    "normalization_params = df_train_x.max()\n",
    "normalized_training = normalize_dataframe(df_train_x,normalization_params)\n",
    "df_test_x_norm = normalize_dataframe(df_test_x,normalization_params)\n",
    "\n",
    "print(normalized_training)\n",
    "\n"
   ]
  },
  {
   "cell_type": "code",
   "execution_count": 27,
   "metadata": {},
   "outputs": [],
   "source": [
    "# normalized_training = raw_training.copy() \n",
    "# def normalize_by_max(vec):\n",
    "#     norm = np.max(vec)\n",
    "#     return vec/norm\n",
    "# for column in normalized_training.columns:\n",
    "#     normalized_training[column] = normalize_by_max(normalized_training[column].tolist())\n",
    "#normalized_training.head(5)\n",
    "#normalized_training = raw_training.apply(normalize_by_max)\n"
   ]
  },
  {
   "cell_type": "markdown",
   "metadata": {},
   "source": [
    "# 3a.i\n",
    "I normalized the data from 0 to 1 by dividing each column by it's max (in the training set). This is simple way to normalize but can be effected by outliers. I'll try training with this first."
   ]
  },
  {
   "cell_type": "code",
   "execution_count": 28,
   "metadata": {},
   "outputs": [
    {
     "name": "stdout",
     "output_type": "stream",
     "text": [
      "class\n",
      "1    237\n",
      "0    195\n",
      "Name: count, dtype: int64\n"
     ]
    },
    {
     "data": {
      "text/plain": [
       "0.5486111111111112"
      ]
     },
     "execution_count": 28,
     "metadata": {},
     "output_type": "execute_result"
    }
   ],
   "source": [
    "counts = df_train_y.value_counts()\n",
    "print(counts)\n",
    "237/(237+195)"
   ]
  },
  {
   "cell_type": "markdown",
   "metadata": {},
   "source": [
    "# 3a.i\n",
    "\n",
    "Given: \n",
    "   1.  The dataset shows a slight imbalance in class distribution (237 to 195). (could go either way but lean toward f1) \n",
    "   2.  We are trying to determine if a mushroom is edible, so False Negatives (undetected poisons mushroom) and False Positives (normal  mushrooms labeled as poisons) should be heavy considered. (F1 is best)\n",
    "\n",
    "   Therefore I would use F1."
   ]
  },
  {
   "cell_type": "markdown",
   "metadata": {},
   "source": [
    "# 3b.i\n"
   ]
  },
  {
   "cell_type": "code",
   "execution_count": 29,
   "metadata": {},
   "outputs": [
    {
     "name": "stdout",
     "output_type": "stream",
     "text": [
      "1\n"
     ]
    }
   ],
   "source": [
    "\n",
    "def euclidean_distance(point1, point2):   \n",
    "    \"\"\"takes two np.arrays \n",
    "    \"\"\"\n",
    "    return np.sqrt(np.sum(np.square(point1 - point2)))\n",
    "\n",
    "\n",
    "\n",
    "def knn(n,point_to_classify, df_train_x,df_train_y):\n",
    "    \"\"\" returns (class)\n",
    "    \"\"\"\n",
    "    k = int(np.sqrt(n))\n",
    "    if(k % 2 != 0):\n",
    "        k+=1\n",
    "    assert k%2 ==0\n",
    "    distances = df_train_x.apply(lambda row: euclidean_distance(point_to_classify, row), axis=1)\n",
    "\n",
    "    result_df = pd.DataFrame({'distances': distances, 'labels': df_train_y})\n",
    "    sorted_result_df = result_df.sort_values(by='distances',ascending=False)\n",
    "    knn = sorted_result_df.head(k)\n",
    "    number_of_1, number_of_0 = knn['labels'].value_counts()\n",
    "    if(number_of_1/(number_of_1+number_of_0)> 0.5):\n",
    "        return 1\n",
    "    return 0\n",
    "\n",
    "n = len(normalized_training.index)\n",
    "\n",
    "\n",
    "point = np.array((0.326367,1.000000,1.000000,0.909091,0.022409,0.403020,0.916667,0.492415))  \n",
    "test_point_class = knn(n, point,df_train_x,df_train_y)\n",
    "print(test_point_class)"
   ]
  },
  {
   "cell_type": "code",
   "execution_count": 30,
   "metadata": {},
   "outputs": [
    {
     "ename": "NameError",
     "evalue": "name 'fo' is not defined",
     "output_type": "error",
     "traceback": [
      "\u001b[0;31m---------------------------------------------------------------------------\u001b[0m",
      "\u001b[0;31mNameError\u001b[0m                                 Traceback (most recent call last)",
      "Cell \u001b[0;32mIn[30], line 1\u001b[0m\n\u001b[0;32m----> 1\u001b[0m \u001b[43mfo\u001b[49m\n",
      "\u001b[0;31mNameError\u001b[0m: name 'fo' is not defined"
     ]
    }
   ],
   "source": [
    "fo"
   ]
  }
 ],
 "metadata": {
  "kernelspec": {
   "display_name": ".venv",
   "language": "python",
   "name": "python3"
  },
  "language_info": {
   "codemirror_mode": {
    "name": "ipython",
    "version": 3
   },
   "file_extension": ".py",
   "mimetype": "text/x-python",
   "name": "python",
   "nbconvert_exporter": "python",
   "pygments_lexer": "ipython3",
   "version": "3.12.5"
  }
 },
 "nbformat": 4,
 "nbformat_minor": 2
}
