{
 "cells": [
  {
   "cell_type": "code",
   "execution_count": null,
   "metadata": {},
   "outputs": [],
   "source": [
    "# def euclidean_distance(point1, point2):   \n",
    "#     \"\"\"takes two np.arrays \n",
    "#     \"\"\"\n",
    "#     return np.sqrt(np.sum(np.square(point1 - point2)))\n",
    "\n",
    "# def knn(n,point_to_classify, df_train_x, df_train_y, threshold):\n",
    "#     \"\"\" returns (class)\n",
    "#     \"\"\"\n",
    "#     k = int(np.sqrt(n))\n",
    "#     if(k % 2 == 0):\n",
    "#         k+=1\n",
    "#     assert k%2 != 0\n",
    "\n",
    "#     distances = df_train_x.apply(lambda row: euclidean_distance(point_to_classify, row), axis=1)\n",
    "\n",
    "#     result_df = pd.DataFrame({'distances': distances, 'labels': df_train_y})\n",
    "#     sorted_result_df = result_df.sort_values(by='distances',ascending=True)\n",
    "#     knn = sorted_result_df.head(k)\n",
    "#     label_counts = knn['labels'].value_counts()\n",
    "#     number_of_1 = label_counts.get(1, 0)\n",
    "#     number_of_0 = label_counts.get(0, 0)\n",
    "#  #   print(number_of_1,number_of_0)\n",
    "#     if(number_of_1/(number_of_1+number_of_0) >= threshold):\n",
    "#         return 1\n",
    "#     return 0\n",
    "\n",
    "# #point = np.array((871,6,2,7,0.6680444512544724,960,11,0.0273721330556057)) \n",
    "# #point = df_test_x_norm.loc[1]\n",
    "# #n = len(df_train_x_norm.index)\n",
    "\n",
    "# #test_point_class = knn(n, point,df_train_x_norm,df_train_y)\n",
    "# #print(test_point_class)\n",
    "\n",
    "# n = len(df_train_x_norm.index)\n",
    "# classes_even = df_test_x_norm.apply(lambda row: knn(n, row, df_train_x_norm, df_train_y, 0.5), axis=1)\n",
    "\n",
    "# n = len(df_train_x_norm.index)\n",
    "# classes_uneven = df_test_x_norm.apply(lambda row: knn(n, row, df_train_x_norm, df_train_y, 0.4), axis=1)"
   ]
  }
 ],
 "metadata": {
  "language_info": {
   "name": "python"
  }
 },
 "nbformat": 4,
 "nbformat_minor": 2
}
